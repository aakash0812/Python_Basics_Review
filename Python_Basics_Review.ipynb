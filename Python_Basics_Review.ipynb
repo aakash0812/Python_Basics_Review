{
 "cells": [
  {
   "cell_type": "markdown",
   "id": "2034dce8",
   "metadata": {},
   "source": [
    "# This is Algebra\n",
    "a * 2  is Multiplication <br>\n",
    "a ** 2 is exponentiation <br>\n",
    "a / 2  is true division <br>\n",
    "a // 2 is floor division i.e. same as true division but displays the highest rounded integer not greater than the result <br>\n",
    "a % 2 is remainder like a mod"
   ]
  },
  {
   "cell_type": "markdown",
   "id": "1dda11d0",
   "metadata": {},
   "source": [
    "# Escape Characters"
   ]
  },
  {
   "cell_type": "code",
   "execution_count": 128,
   "id": "c9b17086",
   "metadata": {},
   "outputs": [
    {
     "name": "stdout",
     "output_type": "stream",
     "text": [
      "Welcome to us\n",
      "Welcome\n",
      "to\n",
      "Python\n",
      "Welcome\tto\tUS\n",
      "welcome \\ to Nepal\n",
      "welcome \" to Nepal\n"
     ]
    }
   ],
   "source": [
    "print ('Welcome\\\n",
    " to us') # use of '\\' allows to put the code in separate line\n",
    "\n",
    "print ('Welcome\\nto\\nPython') # '\\n' separates into different line\n",
    "\n",
    "print ('Welcome\\tto\\tUS') # '\\t' moves the next text to one tab over\n",
    "\n",
    "print ('welcome \\\\ to Nepal') # '\\\\' adds '\\' to text\n",
    "\n",
    "print ('welcome \\\" to Nepal') # '\\\"\"' adds '\"' to text\n"
   ]
  },
  {
   "cell_type": "code",
   "execution_count": 64,
   "id": "9d645643",
   "metadata": {},
   "outputs": [
    {
     "name": "stdout",
     "output_type": "stream",
     "text": [
      "Display \"this\" as 'that'\n"
     ]
    }
   ],
   "source": [
    "print (\"\"\"Display \"this\" as 'that'\"\"\") # Triple quotes help with encolosing other quotes"
   ]
  },
  {
   "cell_type": "markdown",
   "id": "b0ed6234",
   "metadata": {},
   "source": [
    "# Getting Input"
   ]
  },
  {
   "cell_type": "code",
   "execution_count": 74,
   "id": "dd908895",
   "metadata": {},
   "outputs": [
    {
     "name": "stdout",
     "output_type": "stream",
     "text": [
      "What is the first number:2\n",
      "What is the second number:2\n",
      "Enter an integer:2\n"
     ]
    },
    {
     "data": {
      "text/plain": [
       "2"
      ]
     },
     "execution_count": 74,
     "metadata": {},
     "output_type": "execute_result"
    }
   ],
   "source": [
    "#Getting Input From the User\n",
    "value1 = input ('What is the first number:')\n",
    "value2 = input('What is the second number:')\n",
    "value1 + value2\n",
    "# Above \"input\" function always returns string even if you are asking for numeric\n",
    "\n",
    "#If integer value is needed do below\n",
    "value  = input('Enter an integer:')\n",
    "value = int(value) # \"int\" function coverts input string into an integer. If string is entered, it will be an error\n",
    "value"
   ]
  },
  {
   "cell_type": "code",
   "execution_count": 76,
   "id": "69bfbc73",
   "metadata": {
    "scrolled": true
   },
   "outputs": [
    {
     "data": {
      "text/plain": [
       "10"
      ]
     },
     "execution_count": 76,
     "metadata": {},
     "output_type": "execute_result"
    }
   ],
   "source": [
    "int(10.5) #int can also convert a floating number into an integer"
   ]
  },
  {
   "cell_type": "markdown",
   "id": "e8e302db",
   "metadata": {},
   "source": [
    "# These are operators\n",
    "<pre>\n",
    "#Comparison Operators <br>\n",
    "    # > 'greater than' <br>\n",
    "    # < 'less than' <br>\n",
    "    # == 'equal to' <br>\n",
    "    # >= 'greater than equal to' <br>\n",
    "    # <= 'less than equal to' <br>\n",
    "    # != 'not euqal to' <br>\n",
    "\n",
    "#logic Operators <br>\n",
    "    #and, or, not  <br>\n",
    "\n",
    "#Identity Operators <br>\n",
    "    #is, is not <br>\n",
    "    \n",
    "#Membership Operators <br>\n",
    "    #in, not in \n",
    "    </pre>"
   ]
  },
  {
   "cell_type": "code",
   "execution_count": 80,
   "id": "63fd2910",
   "metadata": {},
   "outputs": [
    {
     "name": "stdout",
     "output_type": "stream",
     "text": [
      "Enter two integers, and I will tell you the relationships they satisfy.\n"
     ]
    }
   ],
   "source": [
    "print('Enter two integers, and I will tell you',\n",
    "'the relationships they satisfy.') #if sentences are too long, this is a way to break them"
   ]
  },
  {
   "cell_type": "code",
   "execution_count": 85,
   "id": "3cf7996f",
   "metadata": {},
   "outputs": [
    {
     "data": {
      "text/plain": [
       "int"
      ]
     },
     "execution_count": 85,
     "metadata": {},
     "output_type": "execute_result"
    }
   ],
   "source": [
    "x = 3\n",
    "type (x) #type function displays whether the type of the variable is int, str, or float"
   ]
  },
  {
   "cell_type": "code",
   "execution_count": 107,
   "id": "bbb1fa78",
   "metadata": {},
   "outputs": [
    {
     "data": {
      "text/plain": [
       "45"
      ]
     },
     "execution_count": 107,
     "metadata": {},
     "output_type": "execute_result"
    }
   ],
   "source": [
    "\"\"\"Here is some functions used to summarize data\"\"\"\n",
    "\n",
    "min(12,34,45) #display min of the values - result is 12\n",
    "max(12,34,45) #displays max of the values - result is 45"
   ]
  },
  {
   "cell_type": "markdown",
   "id": "4b567002",
   "metadata": {},
   "source": [
    "# If, While, For Statements"
   ]
  },
  {
   "cell_type": "code",
   "execution_count": 109,
   "id": "628abff3",
   "metadata": {},
   "outputs": [
    {
     "name": "stdout",
     "output_type": "stream",
     "text": [
      "Passed\n",
      "Good job!\n"
     ]
    }
   ],
   "source": [
    "\"\"\"All the statements in a suite must have the same indentation. Example below - they are in the same line\"\"\"\n",
    "grade = 80\n",
    "if grade >= 60:\n",
    "    print('Passed')\n",
    "    print('Good job!')"
   ]
  },
  {
   "cell_type": "code",
   "execution_count": 114,
   "id": "fa25d7eb",
   "metadata": {},
   "outputs": [
    {
     "name": "stdout",
     "output_type": "stream",
     "text": [
      "C\n"
     ]
    }
   ],
   "source": [
    "#Using if else elif statements\n",
    "grade = 70\n",
    "if grade >= 90:\n",
    "    print('A')\n",
    "elif grade >= 80:\n",
    "    print('B')\n",
    "elif grade >= 70:\n",
    "    print('C')\n",
    "elif grade >= 60:\n",
    "    print('D')\n",
    "else:\n",
    "    print('F')"
   ]
  },
  {
   "cell_type": "code",
   "execution_count": 116,
   "id": "32265276",
   "metadata": {},
   "outputs": [
    {
     "data": {
      "text/plain": [
       "81"
      ]
     },
     "execution_count": 116,
     "metadata": {},
     "output_type": "execute_result"
    }
   ],
   "source": [
    "#Using while statements\n",
    "\n",
    "#Power of 3 larger than 50\n",
    "\n",
    "power = 3\n",
    "while power <= 50:\n",
    "    power = power * 3\n",
    "power"
   ]
  },
  {
   "cell_type": "code",
   "execution_count": 306,
   "id": "8cd42b91",
   "metadata": {},
   "outputs": [
    {
     "name": "stdout",
     "output_type": "stream",
     "text": [
      "p  r  o  g  r  a  m  m  i  n  g  "
     ]
    }
   ],
   "source": [
    "#Using For statements\n",
    "\n",
    "#Display programming separated by two spaces\n",
    "\n",
    "for character in 'programming':\n",
    "    print (character, end = '  ')  # 'end=' is an argument that specifies what needs to happen after each print"
   ]
  },
  {
   "cell_type": "code",
   "execution_count": 307,
   "id": "ef46a5fb",
   "metadata": {},
   "outputs": [
    {
     "name": "stdout",
     "output_type": "stream",
     "text": [
      "['apple', 'banana', 'mango']\n"
     ]
    }
   ],
   "source": [
    "#List Comprehension\n",
    "\"\"\"The code below:\n",
    "fruits = [\"apple\", \"banana\", \"cherry\", \"kiwi\", \"mango\"]\n",
    "newlist = []\n",
    "\n",
    "for x in fruits:\n",
    "  if \"a\" in x:\n",
    "    newlist.append(x)\n",
    "\n",
    "print(newlist)\n",
    "\n",
    "-- can be written as below\n",
    "\"\"\"\n",
    "\n",
    "fruits = [\"apple\", \"banana\", \"cherry\", \"kiwi\", \"mango\"]\n",
    "newlist = [x for x in fruits if \"a\" in x]\n",
    "print(newlist)"
   ]
  },
  {
   "cell_type": "code",
   "execution_count": 125,
   "id": "d4038256",
   "metadata": {},
   "outputs": [
    {
     "name": "stdout",
     "output_type": "stream",
     "text": [
      "10, 20, 30\n"
     ]
    }
   ],
   "source": [
    "#another argument called 'sep='\n",
    "print (10,20,30, sep=', ')  #here it displays each items in print separated by comma and a space"
   ]
  },
  {
   "cell_type": "code",
   "execution_count": 127,
   "id": "8aaf6165",
   "metadata": {},
   "outputs": [
    {
     "data": {
      "text/plain": [
       "25"
      ]
     },
     "execution_count": 127,
     "metadata": {},
     "output_type": "execute_result"
    }
   ],
   "source": [
    "\"\"\"Using List. List is a comma separated collection of items enclosed in square brackets\"\"\"\n",
    "total = 0\n",
    "for number in [2, -3, 0, 17, 9]: #here the five integers are in a list. \n",
    "    total = total + number\n",
    "total"
   ]
  },
  {
   "cell_type": "code",
   "execution_count": 133,
   "id": "8c5283c1",
   "metadata": {},
   "outputs": [
    {
     "name": "stdout",
     "output_type": "stream",
     "text": [
      "0123456789"
     ]
    }
   ],
   "source": [
    "#\"For\" example: Display values from 0 to 9 using range function\n",
    "\n",
    "for display in range(10):\n",
    "    print (display, end ='')\n"
   ]
  },
  {
   "cell_type": "code",
   "execution_count": 136,
   "id": "f9367667",
   "metadata": {},
   "outputs": [
    {
     "data": {
      "text/plain": [
       "15"
      ]
     },
     "execution_count": 136,
     "metadata": {},
     "output_type": "execute_result"
    }
   ],
   "source": [
    "# 'Augmented Assignments' = += \n",
    "total = 0\n",
    "for number in [1, 2, 3, 4, 5]:\n",
    "    total += number  # add number to total and store in number instead of using \"total = total + number\"\n",
    "total"
   ]
  },
  {
   "cell_type": "code",
   "execution_count": 143,
   "id": "c1f9ae03",
   "metadata": {},
   "outputs": [
    {
     "name": "stdout",
     "output_type": "stream",
     "text": [
      "7 times 5 is 35\n"
     ]
    }
   ],
   "source": [
    "# using formatted strings. Example: f'' is used to format the string and you can put values by using {}\n",
    "a = 7\n",
    "b = 5\n",
    "print(f'{a} times {b} is {a*b}')"
   ]
  },
  {
   "cell_type": "markdown",
   "id": "9950c52e",
   "metadata": {},
   "source": [
    "# Using Sentinel - Controlled Repetition\n",
    "\n",
    "Sentinel value also called dummary or flag or signal value indicates \"end of data entry\" <br>\n",
    "Example: let's say you are entering class grades of 98, 96, 95 and -1. Here -1 grade isn't possible. <br>\n",
    "Therefore, -1 acts as a sentinel value i.e. it ends the input required from the user to move into calculation"
   ]
  },
  {
   "cell_type": "code",
   "execution_count": 156,
   "id": "ce6ae054",
   "metadata": {},
   "outputs": [
    {
     "name": "stdout",
     "output_type": "stream",
     "text": [
      "Enter grade, -1 ends the program: 40\n",
      "Enter grade, -1 ends the program: 40\n",
      "Enter grade, -1 ends the program: -1\n",
      "Class average is 40.0\n"
     ]
    }
   ],
   "source": [
    "#Class average program with sentinel-controlled iteration i.e. ask for grades until terminated\n",
    "\n",
    "#pseudocode can be divided into \"initialization phase\", \"processing phase\" and \"termination\"\n",
    "\n",
    "initial = 0 #sum of grades\n",
    "grade_count = 0 #number of grades input by user\n",
    "\n",
    "grade = int(input('Enter grade, -1 ends the program: ')) #ask for first input\n",
    "while grade != -1:\n",
    "    initial += grade\n",
    "    grade_count += 1\n",
    "    grade = int(input('Enter grade, -1 ends the program: '))\n",
    "\n",
    "if grade_count != 0:\n",
    "    average = initial/grade_count\n",
    "    print (f'Class average is {average}')\n",
    "else:\n",
    "    print('No Grades were entered')\n",
    "    \n"
   ]
  },
  {
   "cell_type": "code",
   "execution_count": 271,
   "id": "59212d21",
   "metadata": {},
   "outputs": [
    {
     "name": "stdout",
     "output_type": "stream",
     "text": [
      "Enter the result (1 for pass, 2 for fail): 1\n",
      "Enter the result (1 for pass, 2 for fail): 2\n",
      "Enter the result (1 for pass, 2 for fail): 2\n",
      "Enter the result (1 for pass, 2 for fail): 2\n",
      "Enter the result (1 for pass, 2 for fail): 2\n",
      "Enter the result (1 for pass, 2 for fail): 2\n",
      "Enter the result (1 for pass, 2 for fail): 2\n",
      "Enter the result (1 for pass, 2 for fail): 2\n",
      "Enter the result (1 for pass, 2 for fail): 2\n",
      "Enter the result (1 for pass, 2 for fail): 2\n",
      "Passed total: 1\n",
      "Failed total: 9\n"
     ]
    }
   ],
   "source": [
    "# Another example: \n",
    "# Given list of 10 students, ask for pass or fail input, 1 = pass, 2 = fail\n",
    "# Then, count number of students that passed/failed\n",
    "\n",
    "passed = 0\n",
    "failed = 0\n",
    "\n",
    "for student in range(10):\n",
    "    result = int(input('Enter the result (1 for pass, 2 for fail): '))\n",
    "    \n",
    "    if result == 1:\n",
    "        passed = passed + 1\n",
    "    else:\n",
    "        failed = failed + 1\n",
    "print ('Passed total:',passed)\n",
    "print ('Failed total:', failed)\n",
    "\n",
    "if passed > 8:\n",
    "    print ('Bonus to instructor')\n"
   ]
  },
  {
   "cell_type": "markdown",
   "id": "46239bf3",
   "metadata": {},
   "source": [
    "# Miscellaneous \n",
    "\n",
    "1. Decimals  - check book pages 102 - 105 , pdf page from 156 - 159 <br>\n",
    "2. break and continue --> Use break or continue in the middle of for or while loop. <br>\n",
    "  2.1 'break' breaks/terminates the loop while 'continue' skips <br>\n",
    "3. You can use 'and' 'or' operators in Python but to use 'not', do 'not (a>b)' i.e. 'a is not greater than'"
   ]
  },
  {
   "cell_type": "code",
   "execution_count": 192,
   "id": "2b810cce",
   "metadata": {},
   "outputs": [
    {
     "name": "stdout",
     "output_type": "stream",
     "text": [
      "Current variable value : 9\n",
      "Current variable value : 8\n",
      "Current variable value : 7\n",
      "Current variable value : 6\n",
      "Good bye!\n"
     ]
    }
   ],
   "source": [
    "# Example\n",
    "var = 10                    \n",
    "while var > 0:\n",
    "    var = var -1\n",
    "\n",
    "    if var == 5:\n",
    "        break\n",
    "    print ('Current variable value :', var)\n",
    "\n",
    "print (\"Good bye!\")"
   ]
  },
  {
   "cell_type": "code",
   "execution_count": 204,
   "id": "03f4e316",
   "metadata": {},
   "outputs": [
    {
     "data": {
      "text/plain": [
       "[45, 85, 85, 89, 93]"
      ]
     },
     "execution_count": 204,
     "metadata": {},
     "output_type": "execute_result"
    }
   ],
   "source": [
    "import statistics\n",
    "#to import statistics module, provides function to calculate mean, median and mode\n",
    "\n",
    "grades = [85, 93, 45, 89, 85]\n",
    "statistics.mean(grades) #this code means 'access statistics module and then call mean'\n",
    "sorted(grades) #to sort the list"
   ]
  },
  {
   "cell_type": "markdown",
   "id": "8d1c754f",
   "metadata": {},
   "source": [
    "# Functions & Math"
   ]
  },
  {
   "cell_type": "code",
   "execution_count": 222,
   "id": "18260f68",
   "metadata": {},
   "outputs": [
    {
     "data": {
      "text/plain": [
       "49"
      ]
     },
     "execution_count": 222,
     "metadata": {},
     "output_type": "execute_result"
    }
   ],
   "source": [
    "\"\"\"Calculate the square of number. \n",
    "The below function defines a square function that calculates the square of \n",
    "its argument.\"\"\"\n",
    "\n",
    "def square(number):\n",
    "    return number ** 2\n",
    "\n",
    "square(7)"
   ]
  },
  {
   "cell_type": "code",
   "execution_count": 228,
   "id": "ef26319d",
   "metadata": {},
   "outputs": [],
   "source": [
    "square?\n",
    "\n",
    "#this allows user to view a function's docstring to learn how to use the. use 'square??' for functions imported from other sessions\n"
   ]
  },
  {
   "cell_type": "code",
   "execution_count": 15,
   "id": "f80525a0",
   "metadata": {},
   "outputs": [
    {
     "name": "stdout",
     "output_type": "stream",
     "text": [
      "4 4 6 6 4 1 2 6 6 6 "
     ]
    }
   ],
   "source": [
    "import random #random module is useful for simulation and game playing\n",
    "\"\"\"Produce 10 random integers to simulate a rolling six sided dice\"\"\"\n",
    "\n",
    "for roll in range(10):\n",
    "    print(random.randrange(1,7), end=' ')\n",
    "    \n",
    "#to be able to keep the same random number use seed() before the function "
   ]
  },
  {
   "cell_type": "code",
   "execution_count": 270,
   "id": "9cedeb10",
   "metadata": {},
   "outputs": [
    {
     "name": "stdout",
     "output_type": "stream",
     "text": [
      "Player rolled 5 + 1 = 6\n",
      "Point is 6\n",
      "Player rolled 4 + 4 = 8\n",
      "Player rolled 2 + 6 = 8\n",
      "Player rolled 4 + 2 = 6\n",
      "Player wins\n"
     ]
    }
   ],
   "source": [
    "\"\"\"Game: Crap --> played randomly by program\"\"\"\n",
    "\n",
    "import random\n",
    "\n",
    "def roll_dice():\n",
    "    \"\"\"Roll two dice and return their face values as a tuple.\"\"\"\n",
    "    die_first = random.randrange(1, 7)\n",
    "    die_second = random.randrange(1, 7)\n",
    "    return (die_first, die_second)  # pack die face values into a tuple\n",
    "\n",
    "def display_dice_value(dice):\n",
    "    \"\"\"Display one roll of the two dice.\"\"\"\n",
    "    die_first, die_second = dice  # unpack the tuple into variables die1 and die2\n",
    "    print(f'Player rolled {die_first} + {die_second} = {sum(dice)}')\n",
    "\n",
    "die_values = roll_dice()  # first roll\n",
    "display_dice_value(die_values)\n",
    "\n",
    "# determine game status and point, based on first roll\n",
    "sum_of_dice = sum(die_values)\n",
    "\n",
    "if sum_of_dice in (7, 11):  # win\n",
    "    game_status = 'WON'\n",
    "elif sum_of_dice in (2, 3, 12):  # lose\n",
    "    game_status = 'LOST'\n",
    "else:  # remember point\n",
    "    game_status = 'CONTINUE'\n",
    "    my_point = sum_of_dice\n",
    "    print('Point is', my_point)\n",
    "\n",
    "# continue rolling until player wins or loses\n",
    "while game_status == 'CONTINUE':\n",
    "    die_values = roll_dice()\n",
    "    display_dice_value(die_values)\n",
    "    sum_of_dice = sum(die_values)\n",
    "\n",
    "    if sum_of_dice == my_point:  # win by making point\n",
    "        game_status = 'WON'\n",
    "    elif sum_of_dice == 7:  # lose by rolling 7\n",
    "        game_status = 'LOST'\n",
    "\n",
    "# display \"wins\" or \"loses\" message\n",
    "if game_status == 'WON':\n",
    "    print('Player wins')\n",
    "else:\n",
    "    print('Player loses')"
   ]
  },
  {
   "cell_type": "code",
   "execution_count": 237,
   "id": "de9d6ada",
   "metadata": {},
   "outputs": [
    {
     "data": {
      "text/plain": [
       "30.0"
      ]
     },
     "execution_count": 237,
     "metadata": {},
     "output_type": "execute_result"
    }
   ],
   "source": [
    "import math #math module functions\n",
    "\n",
    "#all the functions are available at: https://docs.python.org/3/library/math.html\n",
    "#Example:\n",
    "\n",
    "math.sqrt(900)"
   ]
  },
  {
   "cell_type": "code",
   "execution_count": 241,
   "id": "cce103a4",
   "metadata": {},
   "outputs": [
    {
     "data": {
      "text/plain": [
       "30"
      ]
     },
     "execution_count": 241,
     "metadata": {},
     "output_type": "execute_result"
    }
   ],
   "source": [
    "def rectangle_area (length = 2, width = 3):\n",
    "    return length*width\n",
    "\n",
    "rectangle_area(10) #applies 10 to length, if put (10,5) then applies 10 to lenth and 5 to width\n"
   ]
  },
  {
   "cell_type": "code",
   "execution_count": 244,
   "id": "372f089a",
   "metadata": {},
   "outputs": [
    {
     "data": {
      "text/plain": [
       "15.0"
      ]
     },
     "execution_count": 244,
     "metadata": {},
     "output_type": "execute_result"
    }
   ],
   "source": [
    "#Arbitrary Argument Lists\n",
    "\"\"\"\n",
    "The function’s documentation states that min has two required parameters (named arg1\n",
    "and arg2) and an optional third parameter of the form *args, indicating that the function\n",
    "can receive any number of additional arguments. The * before the parameter name tells\n",
    "Python to pack any remaining arguments into a tuple that’s passed to the args parameter. \"\"\"\n",
    "\n",
    "def average(*args):\n",
    "    return sum(args)/len(args)\n",
    "\n",
    "average(5,10,15,20,25)"
   ]
  },
  {
   "cell_type": "code",
   "execution_count": 246,
   "id": "37fb284b",
   "metadata": {},
   "outputs": [
    {
     "data": {
      "text/plain": [
       "78.5"
      ]
     },
     "execution_count": 246,
     "metadata": {},
     "output_type": "execute_result"
    }
   ],
   "source": [
    "#use of * can be also be used to unpack tuple's, list's etc. \n",
    "grades = [88,75,96,55]\n",
    "average(*grades)"
   ]
  },
  {
   "cell_type": "code",
   "execution_count": 248,
   "id": "73a66d68",
   "metadata": {},
   "outputs": [
    {
     "data": {
      "text/plain": [
       "'hello'"
      ]
     },
     "execution_count": 248,
     "metadata": {},
     "output_type": "execute_result"
    }
   ],
   "source": [
    "#you can also call an object that is defined using period\n",
    "\n",
    "s = 'Hello'\n",
    "s.lower()"
   ]
  },
  {
   "cell_type": "code",
   "execution_count": 249,
   "id": "46bc2333",
   "metadata": {},
   "outputs": [],
   "source": [
    "#to make a variable global just type 'global x' where x is the variable"
   ]
  },
  {
   "cell_type": "code",
   "execution_count": 252,
   "id": "f1a8da1f",
   "metadata": {},
   "outputs": [
    {
     "data": {
      "text/plain": [
       "20"
      ]
     },
     "execution_count": 252,
     "metadata": {},
     "output_type": "execute_result"
    }
   ],
   "source": [
    "from math import ceil, floor #you can import certain identifiersin a module using this. You can also import everything if you type 'from math import *' - however, don't do it\n",
    "ceil(10.3)\n",
    "\n",
    "#you can also assign an abbreviation to a module\n",
    "import statistics as stat\n",
    "grades = [10,20,30]\n",
    "stat.mean(grades)"
   ]
  },
  {
   "cell_type": "markdown",
   "id": "6e506afe",
   "metadata": {},
   "source": [
    "# Lists & Tuples"
   ]
  },
  {
   "cell_type": "markdown",
   "id": "689bec8e",
   "metadata": {},
   "source": [
    "- Lists can store both homogeneous and heterogeneous data. Square bracket denotes lists.\n",
    "    - Example: c1 = [10,20,-30] and c2 = [10,'Smith']\n",
    "    - Lists are indexed from 0 and you can call the elements within the list as such. Example:  c1[2] is -30. Index can also be negative and starts from backwards. c2[-1] is 'Smith'\n",
    "    - Lists are mutable i.e. the elements inside lists can be modified. Example: c1[1] = 18 will replace 20 from c1 by 18. \n",
    "    - You can also use comparison operators and concatenation on two or more lists\n",
    "  "
   ]
  },
  {
   "cell_type": "code",
   "execution_count": 257,
   "id": "2069932b",
   "metadata": {},
   "outputs": [
    {
     "data": {
      "text/plain": [
       "[1, 2, 3, 4, 5]"
      ]
     },
     "execution_count": 257,
     "metadata": {},
     "output_type": "execute_result"
    }
   ],
   "source": [
    "#empty lists\n",
    "\n",
    "a_list = []\n",
    "for number in range (1,6):\n",
    "    a_list += [number]\n",
    "a_list\n",
    "\n",
    "#In line 5, if left operand is a list. a_list is a list then left operand must be iterable. "
   ]
  },
  {
   "cell_type": "markdown",
   "id": "fdffa02f",
   "metadata": {},
   "source": [
    "- Tuples can also store both homogenous and heterogenous data. It's created using parenthesis. \n",
    "    - Example: student = ('pink','green', 4.4)\n",
    "    - Tuples are immutable.     "
   ]
  },
  {
   "cell_type": "code",
   "execution_count": 267,
   "id": "41a0ec37",
   "metadata": {},
   "outputs": [
    {
     "data": {
      "text/plain": [
       "('Amanda', 'Blue', [98, 85, 87])"
      ]
     },
     "execution_count": 267,
     "metadata": {},
     "output_type": "execute_result"
    }
   ],
   "source": [
    "student_tuple = ('Amanda', 'Blue', [98, 65, 87])\n",
    "student_tuple[2][1] = 85\n",
    "student_tuple\n",
    "#even though tuple isn't immutable, lists inside the tuple is. "
   ]
  },
  {
   "cell_type": "code",
   "execution_count": 268,
   "id": "5073f7e1",
   "metadata": {},
   "outputs": [
    {
     "data": {
      "text/plain": [
       "'Amanda'"
      ]
     },
     "execution_count": 268,
     "metadata": {},
     "output_type": "execute_result"
    }
   ],
   "source": [
    "#unpacking sequences - you can assign a variable to sequences within tuple\n",
    "\n",
    "student_tuple = ('Amanda', [98, 65, 87])\n",
    "first_name, grades = student_tuple\n",
    "first_name"
   ]
  },
  {
   "cell_type": "code",
   "execution_count": 272,
   "id": "da63ec04",
   "metadata": {},
   "outputs": [
    {
     "name": "stdout",
     "output_type": "stream",
     "text": [
      "0: red\n",
      "1: blue\n",
      "2: yellow\n"
     ]
    }
   ],
   "source": [
    "#using enumerate - used for accessing an element's index\n",
    "colors = ['red', 'blue', 'yellow']\n",
    "for index, value in enumerate(colors):\n",
    "    print(f'{index}: {value}')"
   ]
  },
  {
   "cell_type": "code",
   "execution_count": 288,
   "id": "3676a2b6",
   "metadata": {},
   "outputs": [
    {
     "name": "stdout",
     "output_type": "stream",
     "text": [
      "Index    Value   Bar\n",
      "    0       10   **********\n",
      "    1        5   *****\n",
      "    2       15   ***************\n",
      "    3        7   *******\n",
      "    4       12   ************\n"
     ]
    }
   ],
   "source": [
    "\"\"\"Displaying a bar chart using enumerate\"\"\"\n",
    "\n",
    "numbers = [10, 5, 15, 7, 12]\n",
    "print (f'Index {\"Value\":>8}   Bar')\n",
    "for index, value in enumerate (numbers):\n",
    "    print (f'{index:>5}{value:>9}   {\"*\" * value}')\n"
   ]
  },
  {
   "cell_type": "code",
   "execution_count": 290,
   "id": "cf2f90bf",
   "metadata": {},
   "outputs": [
    {
     "data": {
      "text/plain": [
       "[2, 7, 17, 25]"
      ]
     },
     "execution_count": 290,
     "metadata": {},
     "output_type": "execute_result"
    }
   ],
   "source": [
    "#Slicing\n",
    "\n",
    "numbers = [2, 3, 5, 7, 11, 13, 17, 19, 23, 25]\n",
    "numbers [::3] #slicing with a step of 3"
   ]
  },
  {
   "cell_type": "code",
   "execution_count": 292,
   "id": "023c002e",
   "metadata": {},
   "outputs": [
    {
     "data": {
      "text/plain": [
       "[11, 13, 17, 19, 23, 25]"
      ]
     },
     "execution_count": 292,
     "metadata": {},
     "output_type": "execute_result"
    }
   ],
   "source": [
    "#deleting from list\n",
    "\n",
    "del numbers [0:2]\n",
    "numbers\n",
    "\n",
    "#use 'sort' to sort the list, if descending use sort(reverse=True)\n",
    "#use reverse() to reverse the contents"
   ]
  },
  {
   "cell_type": "code",
   "execution_count": 299,
   "id": "43c0b748",
   "metadata": {},
   "outputs": [
    {
     "data": {
      "text/plain": [
       "[30, 9, 21, 3, 27]"
      ]
     },
     "execution_count": 299,
     "metadata": {},
     "output_type": "execute_result"
    }
   ],
   "source": [
    "#passing a list to a function\n",
    "def modify_elements(items):\n",
    "    \"\"\"\"Multiplies all element values in items by 3.\"\"\"\n",
    "    for A in range(len(items)):\n",
    "        items[A] *= 3\n",
    "    return(items)\n",
    "\n",
    "numbers = [10, 3, 7, 1, 9]\n",
    "modify_elements(numbers)\n",
    "numbers"
   ]
  },
  {
   "cell_type": "code",
   "execution_count": 305,
   "id": "a3cf4d56",
   "metadata": {},
   "outputs": [
    {
     "data": {
      "text/plain": [
       "[1, 2, 3, 4, 5]"
      ]
     },
     "execution_count": 305,
     "metadata": {},
     "output_type": "execute_result"
    }
   ],
   "source": [
    "[item for item in range(1,6)]"
   ]
  },
  {
   "cell_type": "code",
   "execution_count": 316,
   "id": "f8a39e63",
   "metadata": {},
   "outputs": [
    {
     "name": "stdout",
     "output_type": "stream",
     "text": [
      "25\n"
     ]
    }
   ],
   "source": [
    "#Using lambda instead of a function\n",
    "#Synatx: lambda arguments:expression\n",
    "\n",
    "x = lambda a : a +20 #Add 20 to argument a, and return the result:\n",
    "print(x(5))"
   ]
  },
  {
   "cell_type": "code",
   "execution_count": 324,
   "id": "683d60bd",
   "metadata": {},
   "outputs": [
    {
     "name": "stdout",
     "output_type": "stream",
     "text": [
      "33\n"
     ]
    }
   ],
   "source": [
    "#returns the mutilple of 3 of an input number\n",
    "def myfunc(n):\n",
    "  return lambda a : a * n #takes one argument and multiplies it by an unknown number\n",
    "\n",
    "mytripler = myfunc(3)\n",
    "print(mytripler(11))"
   ]
  },
  {
   "cell_type": "code",
   "execution_count": 325,
   "id": "af789968",
   "metadata": {},
   "outputs": [
    {
     "name": "stdout",
     "output_type": "stream",
     "text": [
      "[1, 3, 5, 13]\n"
     ]
    }
   ],
   "source": [
    "#function called 'filter' tests each element in the seuquence to be true or not\n",
    "# Syntax: filter (function, sequence)\n",
    "\n",
    "# a list contains both even and odd numbers. \n",
    "seq = [0, 1, 2, 3, 5, 8, 13]\n",
    "  \n",
    "# result contains odd numbers of the list\n",
    "result = filter(lambda x: x % 2 != 0, seq)\n",
    "print(list(result))"
   ]
  },
  {
   "cell_type": "code",
   "execution_count": 1,
   "id": "3e18fc8b",
   "metadata": {},
   "outputs": [
    {
     "data": {
      "text/plain": [
       "87"
      ]
     },
     "execution_count": 1,
     "metadata": {},
     "output_type": "execute_result"
    }
   ],
   "source": [
    "#Two-dimensional List\n",
    "a = [[77, 68, 86, 73], \n",
    "     [96, 87, 89, 81], \n",
    "     [70, 90, 86, 81]]\n",
    "a [1][1] #prints row 1 column 1 from above list"
   ]
  },
  {
   "cell_type": "markdown",
   "id": "681de931",
   "metadata": {},
   "source": [
    "# Dictionaries\n",
    "- A dictionary has keys and values - together called items. Each key maps to a specific value.\n",
    "    - Keys must be immutable and unique\n",
    "    - Example: country_codes = {'Finland': 'fi', 'South Africa': 'za','Nepal': 'np'}\n",
    "        - You can empty dictionary using 'country_codes.clear'\n",
    "        - To access the value. Ex: country_codes['South Africa'] will give 'za'\n",
    "        - To add the value. Ex: country_codes['United States'] ='US'\n",
    "        - To convert dictionary 'keys' into list. Ex: list(country_codes.keys()) will give ['Finland', 'South Africa', 'Nepal]. Just change 'keys' into 'values' or 'items' to create other lists. \n",
    "        - To update dictionary. Ex: country_code({South Africa='ze'})\n",
    "        - Empty dictionary: Ex. country{}"
   ]
  },
  {
   "cell_type": "code",
   "execution_count": 29,
   "id": "01c8ac75",
   "metadata": {},
   "outputs": [
    {
     "name": "stdout",
     "output_type": "stream",
     "text": [
      "January has 7 days\n",
      "February has 28 days\n",
      "April has 12 days\n"
     ]
    }
   ],
   "source": [
    "#Iterating a Dictionary using 'items'. Items returns each key-value pair as a tuple\n",
    "\n",
    "days_per_month = {'January': 7, 'February': 28,'April': 12}\n",
    "for month, days in days_per_month.items():\n",
    "    print(f'{month} has {days} days')"
   ]
  },
  {
   "cell_type": "code",
   "execution_count": 28,
   "id": "686c932e",
   "metadata": {},
   "outputs": [
    {
     "data": {
      "text/plain": [
       "{'January': 7, 'February': 28}"
      ]
     },
     "execution_count": 28,
     "metadata": {},
     "output_type": "execute_result"
    }
   ],
   "source": [
    "#Besides using del to delete a key-value pair, 'pop' can be used\n",
    "days_per_month = {'January': 7, 'February': 28,'April': 12}\n",
    "days_per_month.pop('April')\n",
    "days_per_month"
   ]
  },
  {
   "cell_type": "code",
   "execution_count": 27,
   "id": "ebd64e27",
   "metadata": {},
   "outputs": [
    {
     "name": "stdout",
     "output_type": "stream",
     "text": [
      "January February April 1 2 3 "
     ]
    }
   ],
   "source": [
    "#using for to access dictionaries keys and values\n",
    "\n",
    "months = {'January': 1, 'February': 2, 'April': 3}\n",
    "for month_name in months.keys():\n",
    "    print(month_name, end=' ') #prints keys of the dictionary\n",
    "    \n",
    "    \n",
    "for month_number in months.values():\n",
    "    print(month_number, end=' ') #prints values of the dictionary"
   ]
  },
  {
   "cell_type": "code",
   "execution_count": 26,
   "id": "eb6b4732",
   "metadata": {},
   "outputs": [
    {
     "name": "stdout",
     "output_type": "stream",
     "text": [
      "January February March "
     ]
    }
   ],
   "source": [
    "months_view = months.keys()\n",
    "months_view\n",
    "for key in months_view:\n",
    "    print(key, end=' ') #key thing to note here is that in Python \"key\" function is equal to not the index but the "
   ]
  },
  {
   "cell_type": "markdown",
   "id": "3a594cb8",
   "metadata": {},
   "source": [
    "# SETS\n",
    "\n",
    "- Unordered collection of unique values. If you print a set, the order will be different.\n",
    "    - Example of a set: colors = {'red', 'orange', 'yellow', 'green', 'red', 'blue'}\n",
    "- Sets only omits any duplicate elements. \n",
    "- Only contains immuatable objects i.e. sets itself are mutable must set elemets aren't, are iterable but the sequences and strings can't be sliced or indexed. Iterable means you can use for loop. However, since sets are unordered there is no much significance to it. \n",
    "- TO create an empty set. Use 'a = set()'\n",
    "\n",
    "- <b> The '<' operator tests whether the set to its left is a proper subset of the one to its\n",
    "right—that is, all the elements in the left operand are in the right operand, and the sets are\n",
    "not equal. It doesn't mean less than equal to. \n",
    "        - <= operator tests whether the set to its left is an improper subset of the one to its right—that is, all the elements in the left operand are in the right operand, and the sets might be equal:\n",
    "        - The > operator tests whether the set to its left is a proper superset of the one to its right—that is, all the elements in the right operand are in the left operand, and the left operand has more elements:\n",
    "        - The >= operator tests whether the set to its left is an improper superset of the one to its right—that is, all the elements in the right operand are in the left operand, and the sets might be equal:"
   ]
  },
  {
   "cell_type": "code",
   "execution_count": 33,
   "id": "1c9c8d18",
   "metadata": {},
   "outputs": [
    {
     "data": {
      "text/plain": [
       "True"
      ]
     },
     "execution_count": 33,
     "metadata": {},
     "output_type": "execute_result"
    }
   ],
   "source": [
    "{1, 3, 5}.issuperset({3, 5, 1}) #another way to check if a set is a superset. Use 'issubset' for subsets"
   ]
  },
  {
   "cell_type": "code",
   "execution_count": 35,
   "id": "94f4a890",
   "metadata": {},
   "outputs": [
    {
     "data": {
      "text/plain": [
       "{1, 2, 3, 4, 5}"
      ]
     },
     "execution_count": 35,
     "metadata": {},
     "output_type": "execute_result"
    }
   ],
   "source": [
    "{1, 3, 5} | {2, 3, 4} #to calculate the union or you can use '.union()'. Example: {1, 3, 5}.union({2, 3, 4})"
   ]
  },
  {
   "cell_type": "code",
   "execution_count": 39,
   "id": "e73c8cf4",
   "metadata": {},
   "outputs": [
    {
     "data": {
      "text/plain": [
       "{3, 5}"
      ]
     },
     "execution_count": 39,
     "metadata": {},
     "output_type": "execute_result"
    }
   ],
   "source": [
    "{1, 3, 5} & {2, 3, 4,5,6} #to calculate the intersection or you can use '.intersection()'"
   ]
  },
  {
   "cell_type": "code",
   "execution_count": 42,
   "id": "18c6b259",
   "metadata": {},
   "outputs": [
    {
     "data": {
      "text/plain": [
       "{1}"
      ]
     },
     "execution_count": 42,
     "metadata": {},
     "output_type": "execute_result"
    }
   ],
   "source": [
    "{1, 3, 5} - {2, 3, 4,5,6} #to calculate the difference. Difference is the elements that contain in left operand but not in the right operand\n",
    "# You can also use '.difference()'"
   ]
  },
  {
   "cell_type": "code",
   "execution_count": 45,
   "id": "ea858b92",
   "metadata": {},
   "outputs": [
    {
     "data": {
      "text/plain": [
       "{1, 2, 4, 6}"
      ]
     },
     "execution_count": 45,
     "metadata": {},
     "output_type": "execute_result"
    }
   ],
   "source": [
    "{1, 3, 5} ^ {2, 3, 4,5,6}\n",
    "\n",
    "#The symmetric difference between two sets is a set consisting of the elements of both sets that are not in common with one another.\n",
    "# You can also use '.symmetric_difference()'"
   ]
  },
  {
   "cell_type": "code",
   "execution_count": 47,
   "id": "60d665cb",
   "metadata": {},
   "outputs": [
    {
     "data": {
      "text/plain": [
       "False"
      ]
     },
     "execution_count": 47,
     "metadata": {},
     "output_type": "execute_result"
    }
   ],
   "source": [
    "{1, 3, 5}.isdisjoint({2, 3, 4,5,6}) #disjoint is when both sets don't have any elements in common\n"
   ]
  }
 ],
 "metadata": {
  "kernelspec": {
   "display_name": "Python 3 (ipykernel)",
   "language": "python",
   "name": "python3"
  },
  "language_info": {
   "codemirror_mode": {
    "name": "ipython",
    "version": 3
   },
   "file_extension": ".py",
   "mimetype": "text/x-python",
   "name": "python",
   "nbconvert_exporter": "python",
   "pygments_lexer": "ipython3",
   "version": "3.9.13"
  }
 },
 "nbformat": 4,
 "nbformat_minor": 5
}
