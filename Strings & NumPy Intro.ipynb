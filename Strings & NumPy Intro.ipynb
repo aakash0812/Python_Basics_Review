{
 "cells": [
  {
   "cell_type": "markdown",
   "id": "33d7c345",
   "metadata": {},
   "source": [
    "# NumPy"
   ]
  },
  {
   "cell_type": "code",
   "execution_count": 26,
   "id": "4e05ce78",
   "metadata": {},
   "outputs": [
    {
     "data": {
      "text/plain": [
       "array([0.125     , 0.36      , 0.25      , 0.18571429, 0.16326531])"
      ]
     },
     "execution_count": 26,
     "metadata": {},
     "output_type": "execute_result"
    }
   ],
   "source": [
    "import numpy as np #import numpy module\n",
    "\n",
    "#Using numpy to calculate the BMI for elements stored in a list\n",
    "\n",
    "height = [4,5,6,7,7]\n",
    "weight = [2,9,9,9.1,8]\n",
    "\n",
    "np_height = np.array(height)\n",
    "np_weight = np.array(weight)\n",
    "np_weight/np_height ** 2\n",
    "\n",
    "#If the elements are of different types like string and float, everything gets converted to string\n",
    "#Be careful of using list operands on numpy arrays - they function differently. Ex: \"+\" is an addition of arrays \n"
   ]
  },
  {
   "cell_type": "code",
   "execution_count": 27,
   "id": "792917a1",
   "metadata": {},
   "outputs": [
    {
     "data": {
      "text/plain": [
       "dtype('<U11')"
      ]
     },
     "execution_count": 27,
     "metadata": {},
     "output_type": "execute_result"
    }
   ],
   "source": [
    "#creating an array\n",
    "a = np.array([[1,2,3],[4,5,'String']])\n",
    "a.dtype #to check a data type of an array. U11 is string\n",
    "\n",
    "#use 'a.shape' to show the dimensions of the array, 'a.size' will give total elements in array\n",
    "#'a.itemsize' will give size of the element like 8 bytes etc. "
   ]
  },
  {
   "cell_type": "code",
   "execution_count": 35,
   "id": "423f26ca",
   "metadata": {},
   "outputs": [
    {
     "name": "stdout",
     "output_type": "stream",
     "text": [
      "[[1 1 1 1]\n",
      " [1 1 1 1]\n",
      " [1 1 1 1]]\n",
      "[[12 12 12 12]\n",
      " [12 12 12 12]\n",
      " [12 12 12 12]\n",
      " [12 12 12 12]]\n",
      "[10  9  8  7  6  5  4  3  2]\n",
      "[[10  9  8]\n",
      " [ 7  6  5]\n",
      " [ 4  3  2]]\n"
     ]
    }
   ],
   "source": [
    "#creating arrays \n",
    "ones = np.ones((3,4), dtype = int) #create arrays with value 1. You can create value 0 using np.zeros\n",
    "print(ones)\n",
    "\n",
    "\n",
    "same_element = np.full((4,4),12) #creates 4x4 array with value 12\n",
    "print(same_element)\n",
    "\n",
    "\n",
    "#using arange to create ranges. \n",
    "print(np.arange(10,1,-1))\n",
    "\n",
    "#using reshape to determine the shape of an array on above\n",
    "print(np.arange(10,1,-1).reshape(3,3))\n"
   ]
  },
  {
   "cell_type": "code",
   "execution_count": 50,
   "id": "da39bf47",
   "metadata": {},
   "outputs": [
    {
     "name": "stdout",
     "output_type": "stream",
     "text": [
      "24 µs ± 826 ns per loop (mean ± std. dev. of 7 runs, 10000 loops each)\n"
     ]
    }
   ],
   "source": [
    "#Using %timeit to get the execution time of statements\n",
    "\n",
    "%timeit sum([a for a in range(9,999)]) #with regular for statement"
   ]
  },
  {
   "cell_type": "code",
   "execution_count": 52,
   "id": "9cbe45a1",
   "metadata": {},
   "outputs": [
    {
     "name": "stdout",
     "output_type": "stream",
     "text": [
      "2.5 µs ± 23.5 ns per loop (mean ± std. dev. of 7 runs, 100000 loops each)\n"
     ]
    }
   ],
   "source": [
    "%timeit np.arange(9,999).sum() #with numpy array, the time taken to execute is less"
   ]
  },
  {
   "cell_type": "code",
   "execution_count": 56,
   "id": "50375e86",
   "metadata": {},
   "outputs": [],
   "source": [
    "#when comparing two arrays with operands, the operand compares element in each array\n",
    "#You can also use functions like 'ones.sum()' to get the sum of array elements. \n",
    "#You can also use min, max, mean, std"
   ]
  },
  {
   "cell_type": "code",
   "execution_count": 60,
   "id": "6f1567dc",
   "metadata": {},
   "outputs": [
    {
     "data": {
      "text/plain": [
       "array([95.25, 85.25, 83.  ])"
      ]
     },
     "execution_count": 60,
     "metadata": {},
     "output_type": "execute_result"
    }
   ],
   "source": [
    "ratings = np.array([[87, 96, 70], [100, 87, 90],\n",
    "    [94, 77, 90], [100, 81, 82]])\n",
    "ratings.mean(axis=0) #axis 0 performs calculation on all row values within each column"
   ]
  },
  {
   "cell_type": "code",
   "execution_count": 68,
   "id": "8f292305",
   "metadata": {},
   "outputs": [
    {
     "name": "stdout",
     "output_type": "stream",
     "text": [
      "[[ 87  96  70]\n",
      " [100  87  90]]\n",
      "[100  94 100]\n"
     ]
    }
   ],
   "source": [
    "#selecting a subset of arrays\n",
    "print(ratings[0:2])\n",
    "\n",
    "print(ratings[1:,0])"
   ]
  },
  {
   "cell_type": "code",
   "execution_count": 70,
   "id": "bb5b42d6",
   "metadata": {},
   "outputs": [
    {
     "data": {
      "text/plain": [
       "array([[ 87, 100,  94, 100],\n",
       "       [ 96,  87,  77,  81],\n",
       "       [ 70,  90,  90,  82]])"
      ]
     },
     "execution_count": 70,
     "metadata": {},
     "output_type": "execute_result"
    }
   ],
   "source": [
    "#Transposing rows and columns\n",
    "ratings.T"
   ]
  },
  {
   "cell_type": "markdown",
   "id": "03440be2",
   "metadata": {},
   "source": [
    "# Strings"
   ]
  },
  {
   "cell_type": "code",
   "execution_count": null,
   "id": "c6e5f727",
   "metadata": {},
   "outputs": [],
   "source": []
  }
 ],
 "metadata": {
  "kernelspec": {
   "display_name": "Python 3 (ipykernel)",
   "language": "python",
   "name": "python3"
  },
  "language_info": {
   "codemirror_mode": {
    "name": "ipython",
    "version": 3
   },
   "file_extension": ".py",
   "mimetype": "text/x-python",
   "name": "python",
   "nbconvert_exporter": "python",
   "pygments_lexer": "ipython3",
   "version": "3.9.13"
  }
 },
 "nbformat": 4,
 "nbformat_minor": 5
}
